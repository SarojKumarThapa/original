{
  "nbformat": 4,
  "nbformat_minor": 0,
  "metadata": {
    "colab": {
      "provenance": []
    },
    "kernelspec": {
      "name": "python3",
      "display_name": "Python 3"
    },
    "language_info": {
      "name": "python"
    }
  },
  "cells": [
    {
      "cell_type": "code",
      "execution_count": 2,
      "metadata": {
        "colab": {
          "base_uri": "https://localhost:8080/"
        },
        "id": "dLr9QPjQChAN",
        "outputId": "15b52a2a-766c-4e99-b6f4-869ef29fb578"
      },
      "outputs": [
        {
          "output_type": "stream",
          "name": "stdout",
          "text": [
            "Collecting scapy\n",
            "  Downloading scapy-2.5.0.tar.gz (1.3 MB)\n",
            "\u001b[2K     \u001b[90m━━━━━━━━━━━━━━━━━━━━━━━━━━━━━━━━━━━━━━━━\u001b[0m \u001b[32m1.3/1.3 MB\u001b[0m \u001b[31m6.7 MB/s\u001b[0m eta \u001b[36m0:00:00\u001b[0m\n",
            "\u001b[?25h  Preparing metadata (setup.py) ... \u001b[?25l\u001b[?25hdone\n",
            "Building wheels for collected packages: scapy\n",
            "  Building wheel for scapy (setup.py) ... \u001b[?25l\u001b[?25hdone\n",
            "  Created wheel for scapy: filename=scapy-2.5.0-py2.py3-none-any.whl size=1444328 sha256=771cd659df3df1ac6d2032843effe15519be657d7e61ccbb781d98a44d45e432\n",
            "  Stored in directory: /root/.cache/pip/wheels/82/b7/03/8344d8cf6695624746311bc0d389e9d05535ca83c35f90241d\n",
            "Successfully built scapy\n",
            "Installing collected packages: scapy\n",
            "Successfully installed scapy-2.5.0\n",
            "Collecting scapy_http\n",
            "  Downloading scapy_http-1.8.2-py3-none-any.whl (3.9 kB)\n",
            "Requirement already satisfied: scapy in /usr/local/lib/python3.10/dist-packages (from scapy_http) (2.5.0)\n",
            "Installing collected packages: scapy_http\n",
            "Successfully installed scapy_http-1.8.2\n"
          ]
        }
      ],
      "source": [
        "!pip install scapy\n",
        "!pip install scapy_http"
      ]
    },
    {
      "cell_type": "code",
      "source": [
        "from scapy.all import *"
      ],
      "metadata": {
        "id": "5GCbOK7zCrnR"
      },
      "execution_count": 3,
      "outputs": []
    },
    {
      "cell_type": "code",
      "source": [
        "from google.colab import drive\n",
        "drive.mount('/content/drive')"
      ],
      "metadata": {
        "colab": {
          "base_uri": "https://localhost:8080/"
        },
        "id": "exhxt6i5DQcd",
        "outputId": "69d8243b-f8a5-4397-85c9-c5eb96c2190f"
      },
      "execution_count": 4,
      "outputs": [
        {
          "output_type": "stream",
          "name": "stdout",
          "text": [
            "Mounted at /content/drive\n"
          ]
        }
      ]
    },
    {
      "cell_type": "code",
      "source": [
        "pcap_file_path = '/content/drive/MyDrive/FIT/Data/link1_1-VPN/link1_Test11_34_54.pcap'\n",
        "packets = rdpcap(pcap_file_path)"
      ],
      "metadata": {
        "id": "Oftw436YDW77"
      },
      "execution_count": 9,
      "outputs": []
    },
    {
      "cell_type": "code",
      "source": [
        "!pip install scapy\n",
        "\n",
        "from scapy.all import rdpcap\n",
        "\n",
        "pcap_file_path = '/content/drive/MyDrive/FIT/Data/link1_1-VPN/link1_Test11_34_54.pcap'\n",
        "packets = rdpcap(pcap_file_path)\n",
        "\n",
        "# Display information about the first few packets\n",
        "for i in range(min(5, len(packets))):\n",
        "    print(f\"Packet {i + 1}:\\n{packets[i].summary()}\\n\")\n",
        "\n",
        "# Additional information about the pcap file\n",
        "print(f\"Total number of packets: {len(packets)}\")\n"
      ],
      "metadata": {
        "colab": {
          "base_uri": "https://localhost:8080/"
        },
        "id": "mxX0iNTLKmWX",
        "outputId": "04ef2e07-7407-4e0e-eedf-dc4645699fbd"
      },
      "execution_count": 10,
      "outputs": [
        {
          "output_type": "stream",
          "name": "stdout",
          "text": [
            "Requirement already satisfied: scapy in /usr/local/lib/python3.10/dist-packages (2.5.0)\n",
            "Packet 1:\n",
            "Ether / IP / UDP 137.59.53.213:51820 > 172.16.213.247:54023 / Raw\n",
            "\n",
            "Packet 2:\n",
            "Ether / IP / UDP 172.16.213.247:54023 > 137.59.53.213:51820 / Raw\n",
            "\n",
            "Packet 3:\n",
            "Ether / IP / UDP 172.16.213.247:54023 > 137.59.53.213:51820 / Raw\n",
            "\n",
            "Packet 4:\n",
            "Ether / IP / UDP 172.16.213.247:54023 > 137.59.53.213:51820 / Raw\n",
            "\n",
            "Packet 5:\n",
            "Ether / IP / UDP 137.59.53.213:51820 > 172.16.213.247:54023 / Raw\n",
            "\n",
            "Total number of packets: 26249\n"
          ]
        }
      ]
    },
    {
      "cell_type": "code",
      "source": [
        "from scapy.all import rdpcap, IP, TCP, UDP\n",
        "def is_vpn(packet):\n",
        "    # Check if the packet contains specific characteristics associated with VPN traffic\n",
        "    return (\n",
        "        IP in packet and\n",
        "        (\n",
        "            (TCP in packet and (packet[TCP].dport == 1194 or packet[TCP].sport == 1194)) or\n",
        "            (UDP in packet and (packet[UDP].dport == 500 or packet[UDP].sport == 500))\n",
        "        )\n",
        "    )\n",
        "\n",
        "# Load the pcap file\n",
        "pcap_file_path = '/content/drive/MyDrive/FIT/Data/link1_1-VPN/link1_Test11_37_33.pcap'\n",
        "packets = rdpcap(pcap_file_path)\n",
        "\n",
        "# Classify packets into VPN and non-VPN\n",
        "vpn_packets = [packet for packet in packets if is_vpn(packet)]\n",
        "non_vpn_packets = [packet for packet in packets if not is_vpn(packet)]\n",
        "\n",
        "# Print basic statistics\n",
        "print(f\"Total packets: {len(packets)}\")\n",
        "print(f\"VPN packets: {len(vpn_packets)}\")\n",
        "print(f\"Non-VPN packets: {len(non_vpn_packets)}\")"
      ],
      "metadata": {
        "id": "In1-4Cs9JZwW"
      },
      "execution_count": null,
      "outputs": []
    },
    {
      "cell_type": "code",
      "source": [
        "from scapy.all import rdpcap\n",
        "import os\n",
        "\n",
        "def detect_vpn_packets(pcap_file):\n",
        "    # Common VPN ports (for demonstration purposes)\n",
        "    common_vpn_ports = [1194, 1723, 500, 4500,443,1701]\n",
        "\n",
        "    vpn_packet_count = 0\n",
        "    total_packet_count = 0\n",
        "\n",
        "    try:\n",
        "        packets = rdpcap(pcap_file)\n",
        "\n",
        "        for packet in packets:\n",
        "            total_packet_count += 1\n",
        "\n",
        "            # Check if the packet has a TCP or UDP layer\n",
        "            if packet.haslayer('TCP'):\n",
        "                tcp_layer = packet['TCP']\n",
        "                if tcp_layer.sport in common_vpn_ports or tcp_layer.dport in common_vpn_ports:\n",
        "                    vpn_packet_count += 1\n",
        "            elif packet.haslayer('UDP'):\n",
        "                udp_layer = packet['UDP']\n",
        "                if udp_layer.sport in common_vpn_ports or udp_layer.dport in common_vpn_ports:\n",
        "                    vpn_packet_count += 1\n",
        "\n",
        "    except FileNotFoundError:\n",
        "        print(f\"File not found: {pcap_file}\")\n",
        "        return\n",
        "    except Exception as e:\n",
        "        print(f\"An error occurred while processing {pcap_file}: {e}\")\n",
        "        return\n",
        "\n",
        "    print(f\"Total packets in {pcap_file}: {total_packet_count}, Suspected VPN packets: {vpn_packet_count}\")\n",
        "\n",
        "\n",
        "# Define the root folder path\n",
        "root_folder_path = '/content/drive/MyDrive/FIT/Data/'\n",
        "\n",
        "# Walk through each folder and subfolder in the directory\n",
        "for folder_name, sub_folders, file_names in os.walk(root_folder_path):\n",
        "    for filename in file_names:\n",
        "        if filename.endswith(\".pcap\"):\n",
        "            # Construct full file path\n",
        "            file_path = os.path.join(folder_name, filename)\n",
        "            detect_vpn_packets(file_path)\n"
      ],
      "metadata": {
        "colab": {
          "base_uri": "https://localhost:8080/"
        },
        "id": "-0dgu3Pf0wbr",
        "outputId": "3fc2ff2e-97b2-4737-a221-91360a6fba81"
      },
      "execution_count": null,
      "outputs": [
        {
          "output_type": "stream",
          "name": "stdout",
          "text": [
            "Total packets in /content/drive/MyDrive/FIT/Data/link1_5-VPN/link1_Test16_54_19.pcap: 32230, Suspected VPN packets: 0\n",
            "Total packets in /content/drive/MyDrive/FIT/Data/link1_5-VPN/link1_Test16_56_39.pcap: 31272, Suspected VPN packets: 0\n",
            "Total packets in /content/drive/MyDrive/FIT/Data/link1_5-VPN/link1_Test17_04_03.pcap: 32672, Suspected VPN packets: 0\n",
            "Total packets in /content/drive/MyDrive/FIT/Data/link1_5-VPN/link1_Test16_59_10.pcap: 30222, Suspected VPN packets: 0\n",
            "Total packets in /content/drive/MyDrive/FIT/Data/link1_5-VPN/link1_Test16_57_46.pcap: 29168, Suspected VPN packets: 0\n",
            "Total packets in /content/drive/MyDrive/FIT/Data/link1_5-VPN/link1_Test17_06_23.pcap: 31582, Suspected VPN packets: 0\n",
            "Total packets in /content/drive/MyDrive/FIT/Data/link1_2-VPN/link1_Test14_19_47.pcap: 30407, Suspected VPN packets: 0\n",
            "Total packets in /content/drive/MyDrive/FIT/Data/link1_2-VPN/link1_Test14_17_20.pcap: 31088, Suspected VPN packets: 0\n",
            "Total packets in /content/drive/MyDrive/FIT/Data/link1_2-VPN/link1_Test14_24_44.pcap: 30866, Suspected VPN packets: 0\n",
            "Total packets in /content/drive/MyDrive/FIT/Data/link1_2-VPN/link1_Test14_32_08.pcap: 31458, Suspected VPN packets: 0\n",
            "Total packets in /content/drive/MyDrive/FIT/Data/link1_2-VPN/link1_Test14_37_06.pcap: 31145, Suspected VPN packets: 0\n",
            "Total packets in /content/drive/MyDrive/FIT/Data/link1_2-VPN/link1_Test14_27_14.pcap: 34063, Suspected VPN packets: 0\n",
            "Total packets in /content/drive/MyDrive/FIT/Data/link1_4-VPN/link1_Test16_44_24.pcap: 34542, Suspected VPN packets: 0\n",
            "Total packets in /content/drive/MyDrive/FIT/Data/link1_4-VPN/link1_Test16_37_00.pcap: 38356, Suspected VPN packets: 0\n",
            "Total packets in /content/drive/MyDrive/FIT/Data/link1_4-VPN/link1_Test16_39_21.pcap: 31339, Suspected VPN packets: 0\n",
            "Total packets in /content/drive/MyDrive/FIT/Data/link1_4-VPN/link1_Test16_51_47.pcap: 33755, Suspected VPN packets: 0\n",
            "Total packets in /content/drive/MyDrive/FIT/Data/link1_4-VPN/link1_Test16_46_44.pcap: 31745, Suspected VPN packets: 0\n",
            "Total packets in /content/drive/MyDrive/FIT/Data/link1_4-VPN/link1_Test16_49_16.pcap: 33561, Suspected VPN packets: 0\n",
            "Total packets in /content/drive/MyDrive/FIT/Data/link1_1-VPN/link1_Test11_37_33.pcap: 36322, Suspected VPN packets: 0\n",
            "Total packets in /content/drive/MyDrive/FIT/Data/link1_1-VPN/link1_Test11_34_54.pcap: 26249, Suspected VPN packets: 0\n",
            "Total packets in /content/drive/MyDrive/FIT/Data/link1_1-VPN/link1_Test13_33_22.pcap: 32524, Suspected VPN packets: 0\n",
            "Total packets in /content/drive/MyDrive/FIT/Data/link1_1-VPN/link1_Test11_40_14.pcap: 24812, Suspected VPN packets: 0\n",
            "Total packets in /content/drive/MyDrive/FIT/Data/link1_1-VPN/link1_Test13_38_26.pcap: 33651, Suspected VPN packets: 0\n",
            "Total packets in /content/drive/MyDrive/FIT/Data/link1_1-VPN/link1_Test13_43_16.pcap: 34599, Suspected VPN packets: 0\n",
            "Total packets in /content/drive/MyDrive/FIT/Data/link1_1-VPN/link1_Test14_24_44.pcap: 30866, Suspected VPN packets: 0\n",
            "Total packets in /content/drive/MyDrive/FIT/Data/link1_1-VPN/link1_Test14_17_20.pcap: 31088, Suspected VPN packets: 0\n",
            "Total packets in /content/drive/MyDrive/FIT/Data/link1_1-VPN/link1_Test14_19_47.pcap: 30407, Suspected VPN packets: 0\n",
            "Total packets in /content/drive/MyDrive/FIT/Data/link1_1-VPN/link1_Test14_32_08.pcap: 31458, Suspected VPN packets: 0\n",
            "Total packets in /content/drive/MyDrive/FIT/Data/link1_1-VPN/link1_Test14_42_04.pcap: 31284, Suspected VPN packets: 0\n",
            "Total packets in /content/drive/MyDrive/FIT/Data/link1_1-VPN/link1_Test14_37_06.pcap: 31145, Suspected VPN packets: 0\n",
            "Total packets in /content/drive/MyDrive/FIT/Data/link1_1-VPN/link1_Test14_27_14.pcap: 34063, Suspected VPN packets: 0\n",
            "Total packets in /content/drive/MyDrive/FIT/Data/link1_1-VPN/link1_Test14_44_31.pcap: 30259, Suspected VPN packets: 0\n",
            "Total packets in /content/drive/MyDrive/FIT/Data/link1_1-VPN/link1_Test16_28_08.pcap: 32543, Suspected VPN packets: 0\n",
            "Total packets in /content/drive/MyDrive/FIT/Data/link1_1-VPN/link1_Test16_17_30.pcap: 33269, Suspected VPN packets: 0\n",
            "Total packets in /content/drive/MyDrive/FIT/Data/link1_1-VPN/link1_Test14_49_27.pcap: 32290, Suspected VPN packets: 0\n",
            "Total packets in /content/drive/MyDrive/FIT/Data/link1_1-VPN/link1_Test16_44_24.pcap: 34542, Suspected VPN packets: 0\n",
            "Total packets in /content/drive/MyDrive/FIT/Data/link1_1-VPN/link1_Test16_37_00.pcap: 38356, Suspected VPN packets: 0\n",
            "Total packets in /content/drive/MyDrive/FIT/Data/link1_1-VPN/link1_Test16_30_48.pcap: 30884, Suspected VPN packets: 0\n",
            "Total packets in /content/drive/MyDrive/FIT/Data/link1_1-VPN/link1_Test16_39_21.pcap: 31339, Suspected VPN packets: 0\n",
            "Total packets in /content/drive/MyDrive/FIT/Data/link1_1-VPN/link1_Test16_51_47.pcap: 33755, Suspected VPN packets: 0\n",
            "Total packets in /content/drive/MyDrive/FIT/Data/link1_1-VPN/link1_Test16_49_16.pcap: 33561, Suspected VPN packets: 0\n",
            "Total packets in /content/drive/MyDrive/FIT/Data/link1_1-VPN/link1_Test16_54_19.pcap: 32230, Suspected VPN packets: 0\n",
            "Total packets in /content/drive/MyDrive/FIT/Data/link1_1-VPN/link1_Test16_46_44.pcap: 31745, Suspected VPN packets: 0\n"
          ]
        }
      ]
    },
    {
      "cell_type": "code",
      "source": [],
      "metadata": {
        "id": "LiJ7npmZui5A"
      },
      "execution_count": null,
      "outputs": []
    }
  ]
}